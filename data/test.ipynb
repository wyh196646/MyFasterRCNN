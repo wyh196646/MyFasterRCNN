{
 "cells": [
  {
   "cell_type": "code",
   "execution_count": 1,
   "metadata": {},
   "outputs": [],
   "source": [
    "import numpy as np\n",
    "#temp=np.rando"
   ]
  },
  {
   "cell_type": "code",
   "execution_count": 5,
   "metadata": {},
   "outputs": [],
   "source": [
    "data=np.random.rand(5)\n",
    "data=data[np.newaxis]\n",
    "data=data[np.newaxis]"
   ]
  },
  {
   "cell_type": "code",
   "execution_count": 6,
   "metadata": {},
   "outputs": [
    {
     "data": {
      "text/plain": [
       "(1, 1, 5)"
      ]
     },
     "execution_count": 6,
     "metadata": {},
     "output_type": "execute_result"
    }
   ],
   "source": [
    "data.shape"
   ]
  },
  {
   "cell_type": "code",
   "execution_count": 13,
   "metadata": {},
   "outputs": [],
   "source": [
    "data=list(range(10))[::-1]\n"
   ]
  },
  {
   "cell_type": "code",
   "execution_count": 14,
   "metadata": {},
   "outputs": [
    {
     "name": "stdout",
     "output_type": "stream",
     "text": [
      "[9, 8, 7, 6, 5, 4, 3, 2, 1, 0]\n"
     ]
    }
   ],
   "source": [
    "print(data)"
   ]
  },
  {
   "cell_type": "code",
   "execution_count": 19,
   "metadata": {},
   "outputs": [
    {
     "name": "stdout",
     "output_type": "stream",
     "text": [
      "2.220446049250313e-16 <class 'numpy.float64'>\n",
      "[2.22044605e-16 2.00000000e+00 3.00000000e+00]\n",
      "[4.50359963e+15 1.00000000e+00 1.00000000e+00]\n"
     ]
    }
   ],
   "source": [
    "\"\"\"\n",
    "np.finfo使用方法\n",
    "    eps是一个很小的非负数\n",
    "    除法的分母不能为0的,不然会直接跳出显示错误。\n",
    "    使用eps将可能出现的零用eps来替换，这样不会报错。\n",
    "\"\"\"\n",
    "import numpy as np\n",
    " \n",
    "x = np.array([1, 2, 3], dtype=float)\n",
    "eps = np.finfo(x.dtype).eps  # eps = 2.220446049250313e-16 type = <class 'numpy.float64'>\n",
    "print(eps, type(eps))\n",
    "height = np.array([0, 2, 3], dtype=float)\n",
    "height = np.maximum(height, eps) #一旦height中出现0，就用eps进行替换\n",
    "print(height)   #[2.22044605e-16 2.00000000e+00 3.00000000e+00]\n",
    "dy = x / height\n",
    "print(dy)   #[4.50359963e+15 1.00000000e+00 1.00000000e+00]"
   ]
  },
  {
   "cell_type": "code",
   "execution_count": 20,
   "metadata": {},
   "outputs": [
    {
     "data": {
      "text/plain": [
       "array([[1., 2., 3.]])"
      ]
     },
     "execution_count": 20,
     "metadata": {},
     "output_type": "execute_result"
    }
   ],
   "source": [
    "x.reshape(1,3)"
   ]
  }
 ],
 "metadata": {
  "interpreter": {
   "hash": "96eb50e1d44aed467dc8f759cb08c32fbfa9babcf79c554e2d0e5feb04653a10"
  },
  "kernelspec": {
   "display_name": "Python 3.8.8 64-bit ('base': conda)",
   "name": "python3"
  },
  "language_info": {
   "codemirror_mode": {
    "name": "ipython",
    "version": 3
   },
   "file_extension": ".py",
   "mimetype": "text/x-python",
   "name": "python",
   "nbconvert_exporter": "python",
   "pygments_lexer": "ipython3",
   "version": "3.8.8"
  },
  "orig_nbformat": 4
 },
 "nbformat": 4,
 "nbformat_minor": 2
}
